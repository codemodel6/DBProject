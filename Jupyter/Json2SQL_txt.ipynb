{
 "cells": [
  {
   "cell_type": "markdown",
   "id": "a7f49460",
   "metadata": {},
   "source": [
    "# IMPORT"
   ]
  },
  {
   "cell_type": "code",
   "execution_count": 1,
   "id": "a3e1e049",
   "metadata": {},
   "outputs": [],
   "source": [
    "import json"
   ]
  },
  {
   "cell_type": "code",
   "execution_count": 2,
   "id": "57925b33",
   "metadata": {},
   "outputs": [],
   "source": [
    "import pandas as pd"
   ]
  },
  {
   "cell_type": "markdown",
   "id": "df00deb7",
   "metadata": {},
   "source": [
    "-----"
   ]
  },
  {
   "cell_type": "markdown",
   "id": "47f504d4",
   "metadata": {},
   "source": [
    "# OPEN FILE"
   ]
  },
  {
   "cell_type": "code",
   "execution_count": 3,
   "id": "2fad00fd",
   "metadata": {},
   "outputs": [],
   "source": [
    "with open(\"Result_File.json\", \"r\", encoding='utf-8') as Json_Result:\n",
    "    JSON_Obj = json.load(Json_Result)"
   ]
  },
  {
   "cell_type": "code",
   "execution_count": 4,
   "id": "5c623d13",
   "metadata": {},
   "outputs": [],
   "source": [
    "USERNAME = 'ETL_ADMIN'"
   ]
  },
  {
   "cell_type": "code",
   "execution_count": 5,
   "id": "7ff446a8",
   "metadata": {},
   "outputs": [],
   "source": [
    "global TypeDict\n",
    "TypeDict={\n",
    "    'RAW':'BIT',\n",
    "    'BLOB':'BLOB',\n",
    "    'CHAR':'CHAR',\n",
    "    'DATE':'DATETIME',\n",
    "    'FLOAT':'DOUBLE',\n",
    "    'VARCHAR':'VARCHAR',\n",
    "    'VARCHAR2':'VARCHAR',\n",
    "    'CLOB':'VARCHAR',\n",
    "    'NUMBER':'BIGINT'\n",
    "}"
   ]
  },
  {
   "cell_type": "code",
   "execution_count": 6,
   "id": "bc5bfe1a",
   "metadata": {},
   "outputs": [],
   "source": [
    "ENGINETYPE = 'INNODB'\n",
    "CHARSET = 'UTF8'"
   ]
  },
  {
   "cell_type": "markdown",
   "id": "fcae2b99",
   "metadata": {},
   "source": [
    "-----"
   ]
  },
  {
   "cell_type": "markdown",
   "id": "0cdd0327",
   "metadata": {},
   "source": [
    "# CREATE SQL TXT"
   ]
  },
  {
   "cell_type": "code",
   "execution_count": 7,
   "id": "d359880c",
   "metadata": {},
   "outputs": [],
   "source": [
    "# SQL 리스트를 작성할 txt 파일\n",
    "global SQLFile\n",
    "SQLFile = open(\"SQL_List.txt\", 'w',encoding='utf-8')\n",
    "# Create 문"
   ]
  },
  {
   "cell_type": "markdown",
   "id": "e50a26f7",
   "metadata": {},
   "source": [
    "-----"
   ]
  },
  {
   "cell_type": "markdown",
   "id": "028b92b9",
   "metadata": {},
   "source": [
    "# CREATE문 생성기"
   ]
  },
  {
   "cell_type": "code",
   "execution_count": 8,
   "id": "a0834906",
   "metadata": {},
   "outputs": [],
   "source": [
    "def CREATE_TABLE_SQL_GENERATOR(TableLists, TableName):\n",
    "    MyTables = TableLists\n",
    "    item = TableName\n",
    "    \n",
    "    # Table 생성 SQL\n",
    "    CreationSQL = f'CREATE TABLE {item.lower()} (\\n'\n",
    "    count = 0\n",
    "    ColNames = list(MyTables[item]['Columns'])\n",
    "    \n",
    "    PKCols = list(MyTables[item]['PKInfo'])\n",
    "    #print(PKCols)\n",
    "    \n",
    "    for ColName in ColNames:\n",
    "        ColDetail = MyTables[item]['Columns'][ColName]\n",
    "        \n",
    "        # 데이터타입 NUMBER (10,5) 같이 길이가 2 이상이면 FLOAT로 처리\n",
    "        if len(ColDetail[1])>1:\n",
    "            CreationSQL += f'{ColName} FLOAT({int(ColDetail[1][0][0])})'\n",
    "        else:\n",
    "            CreationSQL += f'{ColName} {TypeDict[ColDetail[0]]}'\n",
    "            if ColDetail[1] != '':\n",
    "                CreationSQL += f'({int(ColDetail[1][0])})'\n",
    "        if ColDetail[2] != '':\n",
    "            CreationSQL += f' {ColDetail[2]}'\n",
    "        count+= 1\n",
    "        \n",
    "        # PK 제약조건 추가\n",
    "        if count == len(ColNames):\n",
    "            # PK 컬럼 길이가 1 이상이라면\n",
    "            if len(PKCols)>0:\n",
    "                # SQL에 PK 제약조건을 명시한다.\n",
    "                CreationSQL += f'\\nCONSTRAINT {item.lower()}_PK PRIMARY KEY('\n",
    "                count_pkc = 0\n",
    "                for PKColName in PKCols:\n",
    "                    CreationSQL += f'{PKColName}'\n",
    "                    count_pkc += 1\n",
    "                    if count_pkc == len(PKCols):\n",
    "                        CreationSQL += ')'\n",
    "                    else:\n",
    "                        CreationSQL += ','\n",
    "                CreationSQL += ')'\n",
    "            else:\n",
    "                CreationSQL += ')'\n",
    "        # 아니라면 쉼표 추가\n",
    "        else:\n",
    "            CreationSQL += ','\n",
    "        CreationSQL += '\\n'\n",
    "            \n",
    "    # 엔진 타입 추가\n",
    "    CreationSQL += f'ENGINE={ENGINETYPE},'\n",
    "    \n",
    "    # CHARSET 추가\n",
    "    CreationSQL += f' CHARSET={CHARSET}'\n",
    "    \n",
    "    # 끝맺음표 추가\n",
    "    CreationSQL += ';\\n'\n",
    "#######################################################################\n",
    "    # SQL 문 출력\n",
    "    print(CreationSQL)\n",
    "#######################################################################\n",
    "    # 파일에 쓰기\n",
    "    SQLFile.write(CreationSQL)\n",
    "    SQLFile.write('\\n')"
   ]
  },
  {
   "cell_type": "markdown",
   "id": "5eed7ca2",
   "metadata": {},
   "source": [
    "-----"
   ]
  },
  {
   "cell_type": "markdown",
   "id": "2600ad4b",
   "metadata": {},
   "source": [
    "# ALTER 문 생성기"
   ]
  },
  {
   "cell_type": "code",
   "execution_count": 9,
   "id": "0f8da956",
   "metadata": {
    "lines_to_next_cell": 0
   },
   "outputs": [],
   "source": [
    "# ALTER 문\n",
    "def ALTER_TABLE_SQL_GENERATOR(TableLists, TableName):\n",
    "    MyTables = TableLists\n",
    "    item = TableName\n",
    "\n",
    "    count = 0\n",
    "    FKR_Names = list(MyTables[item]['FKInfo'])\n",
    "    for FKR_Name in FKR_Names:\n",
    "        FKData = MyTables[item]['FKInfo'][FKR_Name]\n",
    "        FKR_Cols = list(FKData['Columns'])\n",
    "        O_Schema = FKData['Original Schema']\n",
    "        O_Table = FKData['Original Table']\n",
    "        O_Cols = list(FKData['Original Column'])\n",
    "        \n",
    "        AlterSQL = f'ALTER TABLE {item.lower()}\\n'\n",
    "        AlterSQL += f'ADD CONSTRAINT {FKR_Name}\\n'\n",
    "        AlterSQL += f'FOREIGN KEY ('\n",
    "        \n",
    "        for i in range(len(FKR_Cols)):\n",
    "            AlterSQL += f'{FKR_Cols[i]}'\n",
    "            if i == len(FKR_Cols)-1:\n",
    "                AlterSQL += ')'\n",
    "            else:\n",
    "                AlterSQL += ', '\n",
    "                \n",
    "        AlterSQL += f' REFERENCES {O_Schema}.{O_Table} ('\n",
    "        for i in range(len(O_Cols)):\n",
    "            AlterSQL += f'{O_Cols[i]}'\n",
    "            if i == len(O_Cols)-1:\n",
    "                AlterSQL += ')'\n",
    "            else:\n",
    "                AlterSQL += ', '\n",
    "        AlterSQL += ';\\n'\n",
    "        \n",
    "#######################################################################\n",
    "    # SQL 문 출력\n",
    "    print(AlterSQL)\n",
    "#######################################################################\n",
    "    # 파일에 쓰기\n",
    "    SQLFile.write(AlterSQL)\n",
    "    SQLFile.write('\\n')"
   ]
  },
  {
   "cell_type": "markdown",
   "id": "4cb0d172",
   "metadata": {},
   "source": [
    "-----"
   ]
  },
  {
   "cell_type": "markdown",
   "id": "dfb80004",
   "metadata": {},
   "source": [
    "# 작성 메인"
   ]
  },
  {
   "cell_type": "code",
   "execution_count": 10,
   "id": "06b50d6c",
   "metadata": {
    "scrolled": false
   },
   "outputs": [
    {
     "name": "stdout",
     "output_type": "stream",
     "text": [
      "CREATE TABLE user_log (\n",
      "USER_ID VARCHAR(100),\n",
      "BOUGHT_ITEM VARCHAR(50),\n",
      "ACTION_TIME DATETIME)\n",
      "ENGINE=INNODB, CHARSET=UTF8;\n",
      "\n",
      "ALTER TABLE user_log\n",
      "ADD CONSTRAINT FK_PRODUCT_CODE\n",
      "FOREIGN KEY (BOUGHT_ITEM) REFERENCES TEST_USER1.PRODUCT_CODE (PRODUCT_ID);\n",
      "\n",
      "CREATE TABLE user_level (\n",
      "USER_ID VARCHAR(20) NOT NULL,\n",
      "PLAYER_LEVEL BIGINT(100) NOT NULL)\n",
      "ENGINE=INNODB, CHARSET=UTF8;\n",
      "\n",
      "ALTER TABLE user_level\n",
      "ADD CONSTRAINT Level_FK_User_Info\n",
      "FOREIGN KEY (USER_ID) REFERENCES ETL_ADMIN.USER_INFO (USER_ID);\n",
      "\n",
      "CREATE TABLE user_info (\n",
      "USER_ID VARCHAR(20) NOT NULL,\n",
      "USER_NAME VARCHAR(50) NOT NULL\n",
      "CONSTRAINT user_info_PK PRIMARY KEY(USER_ID))\n",
      "ENGINE=INNODB, CHARSET=UTF8;\n",
      "\n",
      "CREATE TABLE user_createddate (\n",
      "USER_ID VARCHAR(20) NOT NULL,\n",
      "CREATED_DATE DATETIME NOT NULL\n",
      "CONSTRAINT user_createddate_PK PRIMARY KEY(USER_ID))\n",
      "ENGINE=INNODB, CHARSET=UTF8;\n",
      "\n",
      "ALTER TABLE user_createddate\n",
      "ADD CONSTRAINT FK_User_Info\n",
      "FOREIGN KEY (USER_ID) REFERENCES ETL_ADMIN.USER_INFO (USER_ID);\n",
      "\n",
      "CREATE TABLE double_pkt (\n",
      "ALLIDX VARCHAR(20) NOT NULL,\n",
      "ALLIDS VARCHAR(20) NOT NULL,\n",
      "NAME VARCHAR(100) NOT NULL,\n",
      "COLUMN1 DOUBLE(126) NOT NULL,\n",
      "FLOATEST FLOAT(3) NOT NULL\n",
      "CONSTRAINT double_pkt_PK PRIMARY KEY(ALLIDX,ALLIDS))\n",
      "ENGINE=INNODB, CHARSET=UTF8;\n",
      "\n",
      "CREATE TABLE double_fkt (\n",
      "ANSIS VARCHAR(100) NOT NULL,\n",
      "UTFS VARCHAR(100) NOT NULL,\n",
      "EUCKR VARCHAR(100) NOT NULL)\n",
      "ENGINE=INNODB, CHARSET=UTF8;\n",
      "\n",
      "ALTER TABLE double_fkt\n",
      "ADD CONSTRAINT FK_DOUBLE_PKT\n",
      "FOREIGN KEY (ANSIS, UTFS) REFERENCES ETL_ADMIN.DOUBLE_PKT (ALLIDX, ALLIDS);\n",
      "\n"
     ]
    }
   ],
   "source": [
    "# 테이블 리스트 가져오기\n",
    "MyTables = JSON_Obj['TableData']['TableInfo']['ETL_ADMIN']\n",
    "TableList = list(MyTables)\n",
    "#######################################################################\n",
    "# 각 테이블 당\n",
    "for item in TableList:\n",
    "#######################################################################\n",
    "    CREATE_TABLE_SQL_GENERATOR(MyTables, item)\n",
    "    if MyTables[item]['FKInfo'] != {}:\n",
    "        ALTER_TABLE_SQL_GENERATOR(MyTables, item)\n",
    "\n",
    "    \n",
    "# 파일 닫기\n",
    "SQLFile.close()"
   ]
  }
 ],
 "metadata": {
  "jupytext": {
   "formats": "ipynb,py:light"
  },
  "kernelspec": {
   "display_name": "Python 3 (ipykernel)",
   "language": "python",
   "name": "python3"
  },
  "language_info": {
   "codemirror_mode": {
    "name": "ipython",
    "version": 3
   },
   "file_extension": ".py",
   "mimetype": "text/x-python",
   "name": "python",
   "nbconvert_exporter": "python",
   "pygments_lexer": "ipython3",
   "version": "3.10.9"
  }
 },
 "nbformat": 4,
 "nbformat_minor": 5
}
